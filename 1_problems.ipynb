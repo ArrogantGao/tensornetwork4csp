{
 "cells": [
  {
   "cell_type": "code",
   "execution_count": 1,
   "metadata": {},
   "outputs": [
    {
     "data": {
      "text/plain": [
       "regular3 (generic function with 1 method)"
      ]
     },
     "metadata": {},
     "output_type": "display_data"
    }
   ],
   "source": [
    "using ProblemReductions\n",
    "include(\"utils.jl\")"
   ]
  },
  {
   "cell_type": "code",
   "execution_count": 2,
   "metadata": {},
   "outputs": [
    {
     "data": {
      "text/plain": [
       "5.0"
      ]
     },
     "metadata": {},
     "output_type": "display_data"
    }
   ],
   "source": [
    "# spin glass\n",
    "\n",
    "spin_glass = SpinGlass(\n",
    "    petersen,     # graph\n",
    "    ones(15),     # J, in order of edges\n",
    "    zeros(10)     # h, in order of vertices\n",
    ");\n",
    "\n",
    "energy(spin_glass, [0, 0, 0, 0, 0, 1 ,1 ,1 ,1, 1])"
   ]
  },
  {
   "cell_type": "code",
   "execution_count": 3,
   "metadata": {},
   "outputs": [
    {
     "data": {
      "text/plain": [
       "QUBO{Int64}([1 1; 0 0])"
      ]
     },
     "metadata": {},
     "output_type": "display_data"
    }
   ],
   "source": [
    "# QUBO problem\n",
    "\n",
    "Q = [1 1; 0 0]\n",
    "\n",
    "QUBO(Q)  # matrix Q as argument"
   ]
  },
  {
   "cell_type": "code",
   "execution_count": 4,
   "metadata": {},
   "outputs": [
    {
     "data": {
      "text/plain": [
       "MaxCut{Int64, UnitWeight}(SimpleGraph{Int64}(15, [[2, 5, 6], [1, 3, 7], [2, 4, 8], [3, 5, 9], [1, 4, 10], [1, 8, 9], [2, 9, 10], [3, 6, 10], [4, 6, 7], [5, 7, 8]]), [1, 1, 1, 1, 1, 1, 1, 1, 1, 1, 1, 1, 1, 1, 1])"
      ]
     },
     "metadata": {},
     "output_type": "display_data"
    }
   ],
   "source": [
    "# MaxCut problem\n",
    "\n",
    "MaxCut(\n",
    "    petersen,                # graph\n",
    "    UnitWeight(ne(petersen)) # weights of edges\n",
    ")"
   ]
  },
  {
   "cell_type": "code",
   "execution_count": 5,
   "metadata": {},
   "outputs": [
    {
     "data": {
      "text/plain": [
       "IndependentSet{SimpleGraph{Int64}, Int64, UnitWeight}(SimpleGraph{Int64}(15, [[2, 5, 6], [1, 3, 7], [2, 4, 8], [3, 5, 9], [1, 4, 10], [1, 8, 9], [2, 9, 10], [3, 6, 10], [4, 6, 7], [5, 7, 8]]), [1, 1, 1, 1, 1, 1, 1, 1, 1, 1])"
      ]
     },
     "metadata": {},
     "output_type": "display_data"
    }
   ],
   "source": [
    "# IndependentSet problem\n",
    "\n",
    "IndependentSet(\n",
    "    petersen,                # graph\n",
    "    UnitWeight(nv(petersen)) # weights of vertices\n",
    ")"
   ]
  },
  {
   "cell_type": "code",
   "execution_count": 6,
   "metadata": {},
   "outputs": [
    {
     "data": {
      "text/plain": [
       "MaximalIS{Int64, UnitWeight}(SimpleGraph{Int64}(15, [[2, 5, 6], [1, 3, 7], [2, 4, 8], [3, 5, 9], [1, 4, 10], [1, 8, 9], [2, 9, 10], [3, 6, 10], [4, 6, 7], [5, 7, 8]]), [1, 1, 1, 1, 1, 1, 1, 1, 1, 1])"
      ]
     },
     "metadata": {},
     "output_type": "display_data"
    }
   ],
   "source": [
    "# MaximalIndependentSet problem\n",
    "\n",
    "MaximalIS(\n",
    "    petersen,                # graph\n",
    "    UnitWeight(nv(petersen)) # weights of vertices\n",
    ")"
   ]
  },
  {
   "cell_type": "code",
   "execution_count": 7,
   "metadata": {},
   "outputs": [
    {
     "data": {
      "text/plain": [
       "VertexCovering{Int64, UnitWeight}(SimpleGraph{Int64}(15, [[2, 5, 6], [1, 3, 7], [2, 4, 8], [3, 5, 9], [1, 4, 10], [1, 8, 9], [2, 9, 10], [3, 6, 10], [4, 6, 7], [5, 7, 8]]), [1, 1, 1, 1, 1, 1, 1, 1, 1, 1])"
      ]
     },
     "metadata": {},
     "output_type": "display_data"
    }
   ],
   "source": [
    "# VertexCovering problem\n",
    "\n",
    "VertexCovering(\n",
    "    petersen,                # graph\n",
    "    UnitWeight(nv(petersen)) # weights of vertices\n",
    ")"
   ]
  },
  {
   "cell_type": "code",
   "execution_count": 8,
   "metadata": {},
   "outputs": [
    {
     "data": {
      "text/plain": [
       "Coloring{3, Int64, UnitWeight, ProblemReductions.EXTREMA}(SimpleGraph{Int64}(15, [[2, 5, 6], [1, 3, 7], [2, 4, 8], [3, 5, 9], [1, 4, 10], [1, 8, 9], [2, 9, 10], [3, 6, 10], [4, 6, 7], [5, 7, 8]]), [1, 1, 1, 1, 1, 1, 1, 1, 1, 1, 1, 1, 1, 1, 1])"
      ]
     },
     "metadata": {},
     "output_type": "display_data"
    }
   ],
   "source": [
    "# Coloring problem\n",
    "\n",
    "Coloring{3}(                 # 3 kinds of colors\n",
    "    petersen,                # graph\n",
    "    UnitWeight(ne(petersen)) # weights on edges\n",
    ")"
   ]
  },
  {
   "cell_type": "code",
   "execution_count": 9,
   "metadata": {},
   "outputs": [
    {
     "data": {
      "text/plain": [
       "DominatingSet{SimpleGraph{Int64}, Int64, UnitWeight}(SimpleGraph{Int64}(15, [[2, 5, 6], [1, 3, 7], [2, 4, 8], [3, 5, 9], [1, 4, 10], [1, 8, 9], [2, 9, 10], [3, 6, 10], [4, 6, 7], [5, 7, 8]]), [1, 1, 1, 1, 1, 1, 1, 1, 1, 1])"
      ]
     },
     "metadata": {},
     "output_type": "display_data"
    }
   ],
   "source": [
    "# DominatingSet problem\n",
    "\n",
    "DominatingSet(\n",
    "    petersen,                # graph\n",
    "    UnitWeight(nv(petersen)) # weights of vertices\n",
    ")"
   ]
  },
  {
   "cell_type": "code",
   "execution_count": 10,
   "metadata": {},
   "outputs": [
    {
     "data": {
      "text/plain": [
       "Matching{Int64, UnitWeight}(SimpleGraph{Int64}(15, [[2, 5, 6], [1, 3, 7], [2, 4, 8], [3, 5, 9], [1, 4, 10], [1, 8, 9], [2, 9, 10], [3, 6, 10], [4, 6, 7], [5, 7, 8]]), [1, 1, 1, 1, 1, 1, 1, 1, 1, 1, 1, 1, 1, 1, 1])"
      ]
     },
     "metadata": {},
     "output_type": "display_data"
    }
   ],
   "source": [
    "# Matching problem\n",
    "\n",
    "Matching(\n",
    "    petersen,                # graph\n",
    "    UnitWeight(ne(petersen)) # weights of edges\n",
    ")"
   ]
  },
  {
   "cell_type": "code",
   "execution_count": 11,
   "metadata": {},
   "outputs": [
    {
     "data": {
      "text/plain": [
       "Satisfiability{String, Int64, UnitWeight, ProblemReductions.EXTREMA}([\"x\", \"y\", \"z\", \"a\", \"b\"], [1, 1, 1], (x ∨ y ∨ z) ∧ (a ∨ b ∨ ¬y ∨ z) ∧ (¬x ∨ ¬a))"
      ]
     },
     "metadata": {},
     "output_type": "display_data"
    }
   ],
   "source": [
    "# Satisfiability problem via CNF\n",
    "x, y, z, a, b = BoolVar.([\"x\", \"y\", \"z\", \"a\", \"b\"]);\n",
    "cnf = (x ∨ y ∨ z) ∧ (a ∨ b ∨ ¬y ∨ z) ∧ (¬x ∨ ¬a)\n",
    "\n",
    "sat_problem = Satisfiability(\n",
    "    cnf,                    # CNF\n",
    "    UnitWeight(length(cnf)) # weights of clauses\n",
    ")"
   ]
  },
  {
   "cell_type": "code",
   "execution_count": 12,
   "metadata": {},
   "outputs": [
    {
     "data": {
      "text/plain": [
       "KSatisfiability{3, String, Int64, UnitWeight, ProblemReductions.EXTREMA}([\"x\", \"y\", \"z\", \"a\", \"b\"], (x ∨ y ∨ z) ∧ (a ∨ b ∨ ¬y) ∧ (¬x ∨ ¬a ∨ ¬b), [1, 1, 1], false)"
      ]
     },
     "metadata": {},
     "output_type": "display_data"
    }
   ],
   "source": [
    "# k-SAT problem\n",
    "\n",
    "x, y, z, a, b = BoolVar.([\"x\", \"y\", \"z\", \"a\", \"b\"]);\n",
    "KSatisfiability{3}((x ∨ y ∨ z) ∧ (a ∨ b ∨ ¬y) ∧ (¬x ∨ ¬a ∨ ¬b))"
   ]
  },
  {
   "cell_type": "code",
   "execution_count": 13,
   "metadata": {},
   "outputs": [
    {
     "data": {
      "text/plain": [
       "CircuitSAT{Int64, UnitWeight, ProblemReductions.EXTREMA}:\n",
       "| c = ∧(x, y)\n",
       "| ##var#231 = ¬(z)\n",
       "| ##var#230 = ∧(c, ##var#231)\n",
       "| d = ∨(x, ##var#230)\n",
       "| d = true\n",
       "Symbols: [:c, :x, :y, Symbol(\"##var#231\"), :z, Symbol(\"##var#230\"), :d]"
      ]
     },
     "metadata": {},
     "output_type": "display_data"
    }
   ],
   "source": [
    "# CircuitSAT problem\n",
    "\n",
    "circuit = @circuit  begin\n",
    "    c = x ∧ y\n",
    "    d = x ∨ (c ∧ ¬z)\n",
    "    d = true\n",
    "end\n",
    "\n",
    "CircuitSAT(circuit)"
   ]
  },
  {
   "cell_type": "code",
   "execution_count": 14,
   "metadata": {},
   "outputs": [
    {
     "data": {
      "text/plain": [
       "Factoring{Int64}(2, 3, 15)"
      ]
     },
     "metadata": {},
     "output_type": "display_data"
    }
   ],
   "source": [
    "# Factoring problem\n",
    "\n",
    "Factoring(\n",
    "   2,  # the number of bits to store the first factor\n",
    "   3,  # the number of bits to store the second factor\n",
    "   15  # the integer to be factored\n",
    ")"
   ]
  },
  {
   "cell_type": "code",
   "execution_count": 15,
   "metadata": {},
   "outputs": [
    {
     "data": {
      "text/plain": [
       "SetCovering{Int64, Int64, UnitWeight}([1, 2, 3, 5, 4], [[1, 2, 3], [1, 3, 5], [1, 2], [4], [4, 5]], [1, 1, 1, 1, 1])"
      ]
     },
     "metadata": {},
     "output_type": "display_data"
    }
   ],
   "source": [
    "# SetCovering problem\n",
    "\n",
    "subsets = [[1,2,3],[1,3,5],[1,2],[4],[4,5]];\n",
    "\n",
    "SetCovering(\n",
    "    subsets,                    # a collection of subsets\n",
    "    UnitWeight(length(subsets)) # weights of subsets\n",
    ")"
   ]
  },
  {
   "cell_type": "code",
   "execution_count": 16,
   "metadata": {},
   "outputs": [
    {
     "data": {
      "text/plain": [
       "SetPacking{Int64, Int64, UnitWeight}([1, 2, 3, 5, 4], [[1, 2, 3], [1, 3, 5], [1, 2], [4], [4, 5]], [1, 1, 1, 1, 1])"
      ]
     },
     "metadata": {},
     "output_type": "display_data"
    }
   ],
   "source": [
    "# Set packing problem\n",
    "\n",
    "sets = [[1,2,3],[1,3,5],[1,2],[4],[4,5]];\n",
    "\n",
    "SetPacking(\n",
    "    sets,                    # a collection of sets\n",
    "    UnitWeight(length(sets)) # weights of sets\n",
    ")"
   ]
  }
 ],
 "metadata": {
  "kernelspec": {
   "display_name": "Julia 1.11.4",
   "language": "julia",
   "name": "julia-1.11"
  },
  "language_info": {
   "file_extension": ".jl",
   "mimetype": "application/julia",
   "name": "julia",
   "version": "1.11.4"
  }
 },
 "nbformat": 4,
 "nbformat_minor": 2
}
