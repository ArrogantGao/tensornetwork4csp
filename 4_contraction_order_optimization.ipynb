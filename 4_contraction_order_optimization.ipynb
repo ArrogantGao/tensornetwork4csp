{
 "cells": [
  {
   "cell_type": "code",
   "execution_count": 1,
   "metadata": {},
   "outputs": [
    {
     "data": {
      "text/plain": [
       "Time complexity: 2^4.0\n",
       "Space complexity: 2^0.0\n",
       "Read-write complexity: 2^4.643856189774725"
      ]
     },
     "metadata": {},
     "output_type": "display_data"
    }
   ],
   "source": [
    "using OMEinsum\n",
    "\n",
    "eincode = EinCode([[1, 2], [2, 3], [3, 4], [4, 1], [1], [2], [3], [4]], Int[])\n",
    "size_dict = uniformsize(eincode, 2)\n",
    "\n",
    "contraction_complexity(eincode, size_dict)"
   ]
  },
  {
   "cell_type": "code",
   "execution_count": 2,
   "metadata": {},
   "outputs": [
    {
     "data": {
      "text/plain": [
       "SlicedEinsum{Int64, DynamicNestedEinsum{Int64}}(Int64[], 1, 1 -> \n",
       "├─ 4∘1, 1∘4 -> 1\n",
       "│  ├─ 4∘2, 1∘2 -> 4∘1\n",
       "│  │  ├─ 2, 2∘4 -> 4∘2\n",
       "│  │  │  ├─ 2\n",
       "│  │  │  └─ 2∘3, 3∘4 -> 2∘4\n",
       "│  │  │     ├─ 3, 2∘3 -> 2∘3\n",
       "│  │  │     │  ⋮\n",
       "│  │  │     │  \n",
       "│  │  │     └─ 3∘4\n",
       "│  │  └─ 1∘2\n",
       "│  └─ 4∘1, 4 -> 1∘4\n",
       "│     ├─ 4∘1\n",
       "│     └─ 4\n",
       "└─ 1\n",
       ")"
      ]
     },
     "metadata": {},
     "output_type": "display_data"
    }
   ],
   "source": [
    "optcode = optimize_code(eincode, size_dict, TreeSA())"
   ]
  },
  {
   "cell_type": "code",
   "execution_count": 3,
   "metadata": {},
   "outputs": [
    {
     "data": {
      "text/plain": [
       "Time complexity: 2^5.087462841250339\n",
       "Space complexity: 2^2.0\n",
       "Read-write complexity: 2^6.108524456778169"
      ]
     },
     "metadata": {},
     "output_type": "display_data"
    }
   ],
   "source": [
    "contraction_complexity(optcode, size_dict)"
   ]
  },
  {
   "cell_type": "code",
   "execution_count": 4,
   "metadata": {},
   "outputs": [
    {
     "data": {
      "text/plain": [
       "GreedyMethod{Float64, Float64}(0.0, 0.0, 10)"
      ]
     },
     "metadata": {},
     "output_type": "display_data"
    }
   ],
   "source": [
    "# greedy optimizer\n",
    "\n",
    "greedy = GreedyMethod(\n",
    "    α = 0.0,                # the parameter of the cost function\n",
    "    temperature = 0.0,      # the temperature of the hyper-greedy method\n",
    "    nrepeat = 10,           # the number of trials\n",
    ")"
   ]
  },
  {
   "cell_type": "code",
   "execution_count": 5,
   "metadata": {},
   "outputs": [
    {
     "data": {
      "text/plain": [
       "TreeSA{Int64, StepRangeLen{Float64, Base.TwicePrecision{Float64}, Base.TwicePrecision{Float64}, Int64}, GreedyMethod{Float64, Float64}, Any}(20, 0.01:0.05:14.96, 10, 50, 1.0, 0.2, :greedy, 0, Any[], GreedyMethod{Float64, Float64}(0.0, 0.0, 1))"
      ]
     },
     "metadata": {},
     "output_type": "display_data"
    }
   ],
   "source": [
    "# treesa optimizer\n",
    "\n",
    "treesa = TreeSA(\n",
    "    sc_target = 20,          # the target space complexity\n",
    "    βs = 0.01:0.05:15,       # the inverse temperatures\n",
    "    ntrials = 10,            # the number of trials\n",
    "    niters = 50,             # the number of iterations at each temperature\n",
    "    sc_weight = 1.0,         # the relative weight of the space complexity\n",
    "    rw_weight = 0.2,         # the relative weight of the read-write complexity\n",
    "    initializer = :greedy,   # the initializer of the contraction order\n",
    "    nslices = 0,             # the number of sliced indices\n",
    "    fixed_slices = Any[],    # the manually fixed sliced indices\n",
    "    greedy_config = GreedyMethod(0.0, 0.0, 1), # the method used as initializer\n",
    ")"
   ]
  },
  {
   "cell_type": "code",
   "execution_count": 6,
   "metadata": {},
   "outputs": [
    {
     "data": {
      "text/plain": [
       "KaHyParBipartite{Int64, StepRangeLen{Float64, Base.TwicePrecision{Float64}, Base.TwicePrecision{Float64}, Int64}, GreedyMethod{Float64, Float64}}(25, 0.0:0.005:0.8, 40, GreedyMethod{Float64, Float64}(0.0, 0.0, 10))"
      ]
     },
     "metadata": {},
     "output_type": "display_data"
    }
   ],
   "source": [
    "# KaHyPar Binary partition\n",
    "\n",
    "using KaHyPar\n",
    "\n",
    "kahyparbiparatite = KaHyParBipartite(\n",
    "    sc_target = 25,               # the target space complexity\n",
    "    imbalances = 0.0:0.005:0.8,   # the imbalances of the partition\n",
    "    max_group_size = 40,          # the maximum size of the partition\n",
    "    sub_optimizer = GreedyMethod(0.0, 0.0, 10),  # the sub-optimizer\n",
    ")"
   ]
  },
  {
   "cell_type": "code",
   "execution_count": 7,
   "metadata": {},
   "outputs": [
    {
     "data": {
      "text/plain": [
       "SABipartite{Int64, StepRangeLen{Float64, Base.TwicePrecision{Float64}, Base.TwicePrecision{Float64}, Int64}, GreedyMethod{Float64, Float64}}(25, 50, 0.1:0.2:14.9, 1000, 40, GreedyMethod{Float64, Float64}(0.0, 0.0, 10), :random)"
      ]
     },
     "metadata": {},
     "output_type": "display_data"
    }
   ],
   "source": [
    "# SA Binary partition\n",
    "\n",
    "sabiparatite = SABipartite(\n",
    "    sc_target = 25,          # the target space complexity\n",
    "    ntrials = 50,            # the number of trials\n",
    "    βs = 0.1:0.2:14.9,       # the inverse temperatures\n",
    "    niters = 1000,           # the number of iterations at each temperature\n",
    "    max_group_size = 40,     # the maximum size of the partition\n",
    "    sub_optimizer = GreedyMethod(0.0, 0.0, 10),   # the sub-optimizer\n",
    "    initializer = :random,   # the initializer of the contraction order\n",
    ")"
   ]
  },
  {
   "cell_type": "code",
   "execution_count": 8,
   "metadata": {},
   "outputs": [
    {
     "data": {
      "text/plain": [
       "ExactTreewidth{GreedyMethod{Float64, Float64}}(CliqueTrees.SafeRules{CliqueTrees.MMW, CliqueTrees.BT}(CliqueTrees.MMW(), CliqueTrees.BT()), GreedyMethod{Float64, Float64}(0.0, 0.0, 1))"
      ]
     },
     "metadata": {},
     "output_type": "display_data"
    }
   ],
   "source": [
    "# exact treewidth\n",
    "\n",
    "exacttreewidth = ExactTreewidth(\n",
    "    greedy_config = GreedyMethod(nrepeat = 1),  # the sub-optimizer\n",
    ")"
   ]
  }
 ],
 "metadata": {
  "kernelspec": {
   "display_name": "Julia 1.11.4",
   "language": "julia",
   "name": "julia-1.11"
  },
  "language_info": {
   "file_extension": ".jl",
   "mimetype": "application/julia",
   "name": "julia",
   "version": "1.11.4"
  }
 },
 "nbformat": 4,
 "nbformat_minor": 2
}
