{
 "cells": [
  {
   "cell_type": "code",
   "execution_count": 1,
   "metadata": {},
   "outputs": [
    {
     "data": {
      "text/plain": [
       "regular3 (generic function with 1 method)"
      ]
     },
     "metadata": {},
     "output_type": "display_data"
    }
   ],
   "source": [
    "using ProblemReductions, GenericTensorNetworks\n",
    "include(\"utils.jl\")"
   ]
  },
  {
   "cell_type": "code",
   "execution_count": 2,
   "metadata": {},
   "outputs": [
    {
     "data": {
      "text/plain": [
       "Factoring{Int64}(2, 3, 15)"
      ]
     },
     "metadata": {},
     "output_type": "display_data"
    }
   ],
   "source": [
    "factoring = Factoring(2, 3, 15)"
   ]
  },
  {
   "cell_type": "code",
   "execution_count": 4,
   "metadata": {},
   "outputs": [
    {
     "data": {
      "text/plain": [
       "(3, 5)"
      ]
     },
     "metadata": {},
     "output_type": "display_data"
    }
   ],
   "source": [
    "reduction_res = reduceto(CircuitSAT, factoring);\n",
    "result = findbest(\n",
    "    target_problem(reduction_res),    # target problem\n",
    "    GTNSolver()                       # solver\n",
    "); \n",
    "solution = extract_solution(reduction_res, result[1]);\n",
    "ProblemReductions.read_solution(factoring,solution) # returns two factors"
   ]
  },
  {
   "cell_type": "code",
   "execution_count": 5,
   "metadata": {},
   "outputs": [
    {
     "data": {
      "text/plain": [
       "(num_vertices = 63, num_edges = 137)"
      ]
     },
     "metadata": {},
     "output_type": "display_data"
    }
   ],
   "source": [
    "all_paths = reduction_paths(Factoring, SpinGlass)\n",
    "reduction_res = reduceto(first(all_paths), factoring)\n",
    "spin_glass = target_problem(reduction_res);\n",
    "problem_size(spin_glass)"
   ]
  },
  {
   "cell_type": "code",
   "execution_count": 6,
   "metadata": {},
   "outputs": [
    {
     "data": {
      "text/plain": [
       "(3, 5)"
      ]
     },
     "metadata": {},
     "output_type": "display_data"
    }
   ],
   "source": [
    "result = findbest(spin_glass, GTNSolver()); # returns all best solutions\n",
    "solution = extract_solution(reduction_res, result[1]);\n",
    "ProblemReductions.read_solution(factoring,solution) # returns two factors"
   ]
  }
 ],
 "metadata": {
  "kernelspec": {
   "display_name": "Julia 1.11.4",
   "language": "julia",
   "name": "julia-1.11"
  },
  "language_info": {
   "file_extension": ".jl",
   "mimetype": "application/julia",
   "name": "julia",
   "version": "1.11.4"
  }
 },
 "nbformat": 4,
 "nbformat_minor": 2
}
