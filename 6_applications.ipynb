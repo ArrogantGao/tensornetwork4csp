{
 "cells": [
  {
   "cell_type": "code",
   "execution_count": 1,
   "metadata": {},
   "outputs": [
    {
     "data": {
      "text/plain": [
       "regular3 (generic function with 1 method)"
      ]
     },
     "metadata": {},
     "output_type": "display_data"
    }
   ],
   "source": [
    "using GenericTensorNetworks, Graphs\n",
    "include(\"utils.jl\")"
   ]
  },
  {
   "cell_type": "markdown",
   "metadata": {},
   "source": [
    "## Hard square entropy constant"
   ]
  },
  {
   "cell_type": "code",
   "execution_count": 2,
   "metadata": {},
   "outputs": [
    {
     "data": {
      "text/plain": [
       "1.524316200365006"
      ]
     },
     "metadata": {},
     "output_type": "display_data"
    }
   ],
   "source": [
    "F(L) = solve(GenericTensorNetwork(IndependentSet(square(L))), PartitionFunction(0.0))[]^(1/L^2)\n",
    "\n",
    "F(10)"
   ]
  },
  {
   "cell_type": "markdown",
   "metadata": {},
   "source": [
    "## Configuration enumeration and sampling"
   ]
  },
  {
   "cell_type": "code",
   "execution_count": 3,
   "metadata": {},
   "outputs": [
    {
     "data": {
      "text/plain": [
       "0-dimensional Array{Polynomial{BigInt, :x}, 0}:\n",
       "Polynomial(1 + 10*x + 30*x^2 + 30*x^3 + 5*x^4)"
      ]
     },
     "metadata": {},
     "output_type": "display_data"
    }
   ],
   "source": [
    "solve(GenericTensorNetwork(IndependentSet(petersen)), GraphPolynomial(; method=:finitefield))"
   ]
  },
  {
   "cell_type": "code",
   "execution_count": 4,
   "metadata": {},
   "outputs": [
    {
     "data": {
      "text/plain": [
       "321-element Vector{Int64}:\n",
       " 10000\n",
       "     0\n",
       "     0\n",
       "     0\n",
       "     0\n",
       "     0\n",
       "     0\n",
       "     0\n",
       "     0\n",
       "     0\n",
       "     ⋮\n",
       "     0\n",
       "     0\n",
       "     0\n",
       "     0\n",
       "     0\n",
       "     0\n",
       "     0\n",
       "     0\n",
       "     0"
      ]
     },
     "metadata": {},
     "output_type": "display_data"
    }
   ],
   "source": [
    "samples = generate_samples(sum(solve(\n",
    "    GenericTensorNetwork(IndependentSet(ksg(20))),\n",
    "    ConfigsMax(2; tree_storage=true)\n",
    ")[].coeffs), 10000);\n",
    "\n",
    "hamming = hamming_distribution(samples, samples)"
   ]
  },
  {
   "cell_type": "markdown",
   "metadata": {},
   "source": [
    "## Reduce factoring to Rydberg atoms for solution space analysis"
   ]
  },
  {
   "cell_type": "code",
   "execution_count": 5,
   "metadata": {},
   "outputs": [
    {
     "data": {
      "text/plain": [
       "IndependentSet{ProblemReductions.GridGraph{2}, Int64, Vector{Int64}}(ProblemReductions.GridGraph{2}([(14, 1), (16, 1), (32, 1), (34, 1), (50, 1), (52, 1), (18, 2), (36, 2), (54, 2), (6, 3)  …  (49, 56), (50, 56), (60, 56), (62, 56), (67, 56), (68, 56), (6, 58), (24, 58), (42, 58), (60, 58)], 2.8567113959936523), [2, 2, 2, 2, 2, 2, 2, 2, 2, 1  …  3, 3, 3, 3, 3, 3, 1, 1, 1, 1])"
      ]
     },
     "metadata": {},
     "output_type": "display_data"
    }
   ],
   "source": [
    "using ProblemReductions, UnitDiskMapping, GenericTensorNetworks\n",
    "\n",
    "factoring_problem = Factoring(4, 5, 221);\n",
    "\n",
    "result = reduceto(IndependentSet{ProblemReductions.GridGraph{2}, Int, Vector{Int}}, factoring_problem);\n",
    "\n",
    "mapped_problem = target_problem(result)"
   ]
  },
  {
   "cell_type": "code",
   "execution_count": 6,
   "metadata": {},
   "outputs": [
    {
     "data": {
      "text/plain": [
       "(num_vertices = 740, num_edges = 1559)"
      ]
     },
     "metadata": {},
     "output_type": "display_data"
    }
   ],
   "source": [
    "problem_size(mapped_problem)"
   ]
  },
  {
   "cell_type": "code",
   "execution_count": 7,
   "metadata": {},
   "outputs": [
    {
     "data": {
      "text/plain": [
       "(13, 17)"
      ]
     },
     "metadata": {},
     "output_type": "display_data"
    }
   ],
   "source": [
    "config = findbest(mapped_problem, GTNSolver());\n",
    "result = ProblemReductions.read_solution(factoring_problem, extract_solution(result, first(config)))"
   ]
  },
  {
   "cell_type": "markdown",
   "metadata": {},
   "source": [
    "## Ground state degeneracy of the Buckyball structure"
   ]
  },
  {
   "cell_type": "code",
   "execution_count": 8,
   "metadata": {},
   "outputs": [
    {
     "data": {
      "text/plain": [
       "(num_vertices = 60, num_edges = 90)"
      ]
     },
     "metadata": {},
     "output_type": "display_data"
    }
   ],
   "source": [
    "using GenericTensorNetworks, Graphs, ProblemReductions\n",
    "\n",
    "function fullerene()  # construct the fullerene graph in 3D space\n",
    "    th = (1+sqrt(5))/2\n",
    "    res = NTuple{3,Float64}[]\n",
    "    for (x, y, z) in ((0.0, 1.0, 3th), (1.0, 2 + th, 2th), (th, 2.0, 2th + 1.0))\n",
    "        for (a, b, c) in ((x,y,z), (y,z,x), (z,x,y))\n",
    "            for loc in ((a,b,c), (a,b,-c), (a,-b,c), (a,-b,-c), (-a,b,c), (-a,b,-c), (-a,-b,c), (-a,-b,-c))\n",
    "                if loc ∉ res\n",
    "                    push!(res, loc)\n",
    "                end\n",
    "            end\n",
    "        end\n",
    "    end\n",
    "    return res\n",
    "end\n",
    "\n",
    "fullerene_graph = UnitDiskGraph(fullerene(), sqrt(5)); # construct the unit disk graph\n",
    "spin_glass = SpinGlass(fullerene_graph, UnitWeight(ne(fullerene_graph)), zeros(Int, nv(fullerene_graph)));\n",
    "problem_size(spin_glass)"
   ]
  },
  {
   "cell_type": "code",
   "execution_count": 9,
   "metadata": {},
   "outputs": [
    {
     "data": {
      "text/plain": [
       "1.3073684577607942"
      ]
     },
     "metadata": {},
     "output_type": "display_data"
    }
   ],
   "source": [
    "log(solve(spin_glass, PartitionFunction(1.0))[])/nv(fullerene_graph)"
   ]
  },
  {
   "cell_type": "code",
   "execution_count": 10,
   "metadata": {},
   "outputs": [
    {
     "data": {
      "text/plain": [
       "(-66.0, 16000.0)ₜ"
      ]
     },
     "metadata": {},
     "output_type": "display_data"
    }
   ],
   "source": [
    "solve(spin_glass, CountingMin())[]"
   ]
  }
 ],
 "metadata": {
  "kernelspec": {
   "display_name": "Julia 1.11.4",
   "language": "julia",
   "name": "julia-1.11"
  },
  "language_info": {
   "file_extension": ".jl",
   "mimetype": "application/julia",
   "name": "julia",
   "version": "1.11.4"
  }
 },
 "nbformat": 4,
 "nbformat_minor": 2
}
