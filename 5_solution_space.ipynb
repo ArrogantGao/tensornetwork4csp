{
 "cells": [
  {
   "cell_type": "code",
   "execution_count": 1,
   "metadata": {},
   "outputs": [
    {
     "data": {
      "text/plain": [
       "regular3 (generic function with 1 method)"
      ]
     },
     "metadata": {},
     "output_type": "display_data"
    }
   ],
   "source": [
    "using GenericTensorNetworks, Graphs\n",
    "include(\"utils.jl\")"
   ]
  },
  {
   "cell_type": "code",
   "execution_count": 2,
   "metadata": {},
   "outputs": [
    {
     "data": {
      "text/plain": [
       "0-dimensional Array{Float64, 0}:\n",
       "9.589790366629293e71"
      ]
     },
     "metadata": {},
     "output_type": "display_data"
    }
   ],
   "source": [
    "solve(\n",
    "    GenericTensorNetwork(          # convert the CSP problem to a tensor network\n",
    "        IndependentSet(            # CSP problem: the independent set problem\n",
    "            square(20),            # 20x20 square lattice\n",
    "            UnitWeight(400)        # default: uniform weight 1\n",
    "        );    \n",
    "        optimizer = TreeSA(),      # contraction order optimizer\n",
    "        openvertices = (),         # default: no open vertices\n",
    "        fixedvertices = Dict()     # default: no fixed vertices\n",
    "    ),\n",
    "    PartitionFunction(0.0);        # wanted property: partition function at β = 0.0 (infinite temperature)\n",
    "    usecuda=false                  # default: not using CUDA\n",
    ")"
   ]
  },
  {
   "cell_type": "code",
   "execution_count": 3,
   "metadata": {},
   "outputs": [
    {
     "data": {
      "text/plain": [
       "(:n,)"
      ]
     },
     "metadata": {},
     "output_type": "display_data"
    }
   ],
   "source": [
    "# Tropical tensor network\n",
    "\n",
    "fieldnames(Tropical)"
   ]
  },
  {
   "cell_type": "code",
   "execution_count": 4,
   "metadata": {},
   "outputs": [
    {
     "data": {
      "text/plain": [
       "(2.0ₜ, 3.0ₜ)"
      ]
     },
     "metadata": {},
     "output_type": "display_data"
    }
   ],
   "source": [
    "a, b = Tropical(2.0), Tropical(3.0)"
   ]
  },
  {
   "cell_type": "code",
   "execution_count": 5,
   "metadata": {},
   "outputs": [
    {
     "data": {
      "text/plain": [
       "2.0"
      ]
     },
     "metadata": {},
     "output_type": "display_data"
    }
   ],
   "source": [
    "a.n"
   ]
  },
  {
   "cell_type": "code",
   "execution_count": 6,
   "metadata": {},
   "outputs": [
    {
     "data": {
      "text/plain": [
       "(3.0ₜ, 5.0ₜ)"
      ]
     },
     "metadata": {},
     "output_type": "display_data"
    }
   ],
   "source": [
    "a + b, a * b"
   ]
  },
  {
   "cell_type": "code",
   "execution_count": 7,
   "metadata": {},
   "outputs": [
    {
     "data": {
      "text/plain": [
       "(-Infₜ, 0.0ₜ)"
      ]
     },
     "metadata": {},
     "output_type": "display_data"
    }
   ],
   "source": [
    "zero(a), one(a)"
   ]
  },
  {
   "cell_type": "code",
   "execution_count": 8,
   "metadata": {},
   "outputs": [
    {
     "data": {
      "text/plain": [
       "25-element Vector{Array{Tropical{Float64}}}:\n",
       " [0.0ₜ 0.0ₜ; 0.0ₜ -Infₜ]\n",
       " [0.0ₜ 0.0ₜ; 0.0ₜ -Infₜ]\n",
       " [0.0ₜ 0.0ₜ; 0.0ₜ -Infₜ]\n",
       " [0.0ₜ 0.0ₜ; 0.0ₜ -Infₜ]\n",
       " [0.0ₜ 0.0ₜ; 0.0ₜ -Infₜ]\n",
       " [0.0ₜ 0.0ₜ; 0.0ₜ -Infₜ]\n",
       " [0.0ₜ 0.0ₜ; 0.0ₜ -Infₜ]\n",
       " [0.0ₜ 0.0ₜ; 0.0ₜ -Infₜ]\n",
       " [0.0ₜ 0.0ₜ; 0.0ₜ -Infₜ]\n",
       " [0.0ₜ 0.0ₜ; 0.0ₜ -Infₜ]\n",
       " ⋮\n",
       " [0.0ₜ, 1.0ₜ]\n",
       " [0.0ₜ, 1.0ₜ]\n",
       " [0.0ₜ, 1.0ₜ]\n",
       " [0.0ₜ, 1.0ₜ]\n",
       " [0.0ₜ, 1.0ₜ]\n",
       " [0.0ₜ, 1.0ₜ]\n",
       " [0.0ₜ, 1.0ₜ]\n",
       " [0.0ₜ, 1.0ₜ]\n",
       " [0.0ₜ, 1.0ₜ]"
      ]
     },
     "metadata": {},
     "output_type": "display_data"
    }
   ],
   "source": [
    "GenericTensorNetworks.generate_tensors(Tropical(1.0), IndependentSet(smallgraph(:petersen)))"
   ]
  },
  {
   "cell_type": "code",
   "execution_count": 9,
   "metadata": {},
   "outputs": [
    {
     "data": {
      "text/plain": [
       "4.0ₜ"
      ]
     },
     "metadata": {},
     "output_type": "display_data"
    }
   ],
   "source": [
    "net_petersen = GenericTensorNetwork(IndependentSet(petersen))\n",
    "res1 = solve(net_petersen, SizeMax())[]"
   ]
  },
  {
   "cell_type": "code",
   "execution_count": 10,
   "metadata": {},
   "outputs": [
    {
     "data": {
      "text/plain": [
       "ExtendedTropical{2, Tropical{Float64}}(Tropical{Float64}[4.0ₜ, 4.0ₜ])"
      ]
     },
     "metadata": {},
     "output_type": "display_data"
    }
   ],
   "source": [
    "res2 = solve(net_petersen, SizeMax(2))[]"
   ]
  },
  {
   "cell_type": "code",
   "execution_count": 11,
   "metadata": {},
   "outputs": [
    {
     "data": {
      "text/plain": [
       "(4.0, 5.0)ₜ"
      ]
     },
     "metadata": {},
     "output_type": "display_data"
    }
   ],
   "source": [
    "res3 = solve(net_petersen, CountingMax())[]"
   ]
  },
  {
   "cell_type": "code",
   "execution_count": 12,
   "metadata": {},
   "outputs": [
    {
     "data": {
      "text/plain": [
       "30.0*x³ + 5.0*x⁴"
      ]
     },
     "metadata": {},
     "output_type": "display_data"
    }
   ],
   "source": [
    "res4 = solve(net_petersen, CountingMax(2))[]"
   ]
  },
  {
   "cell_type": "code",
   "execution_count": 13,
   "metadata": {},
   "outputs": [
    {
     "data": {
      "text/plain": [
       "76"
      ]
     },
     "metadata": {},
     "output_type": "display_data"
    }
   ],
   "source": [
    "res5 = solve(net_petersen, CountingAll())[]"
   ]
  },
  {
   "cell_type": "code",
   "execution_count": 14,
   "metadata": {},
   "outputs": [
    {
     "data": {
      "text/html": [
       "1 &#43; 10&#8729;x &#43; 30&#8729;x<sup>2</sup> &#43; 30&#8729;x<sup>3</sup> &#43; 5&#8729;x<sup>4</sup>"
      ],
      "text/latex": [
       "$1 + 10\\cdot x + 30\\cdot x^{2} + 30\\cdot x^{3} + 5\\cdot x^{4}$"
      ],
      "text/plain": [
       "Polynomial(1 + 10*x + 30*x^2 + 30*x^3 + 5*x^4)"
      ]
     },
     "metadata": {},
     "output_type": "display_data"
    }
   ],
   "source": [
    "res6 = solve(net_petersen, GraphPolynomial())[]"
   ]
  },
  {
   "cell_type": "code",
   "execution_count": 15,
   "metadata": {},
   "outputs": [
    {
     "data": {
      "text/plain": [
       "(4.0, ConfigSampler{10, 1, 1}(0101010001))ₜ"
      ]
     },
     "metadata": {},
     "output_type": "display_data"
    }
   ],
   "source": [
    "res7 = solve(net_petersen, SingleConfigMax())[]"
   ]
  },
  {
   "cell_type": "code",
   "execution_count": 16,
   "metadata": {},
   "outputs": [
    {
     "data": {
      "text/plain": [
       "ExtendedTropical{2, CountingTropical{Float64, ConfigSampler{10, 1, 1}}}(CountingTropical{Float64, ConfigSampler{10, 1, 1}}[(4.0, ConfigSampler{10, 1, 1}(1010000011))ₜ, (4.0, ConfigSampler{10, 1, 1}(0101010001))ₜ])"
      ]
     },
     "metadata": {},
     "output_type": "display_data"
    }
   ],
   "source": [
    "res8 = solve(net_petersen, SingleConfigMax(2))[]"
   ]
  },
  {
   "cell_type": "code",
   "execution_count": 17,
   "metadata": {},
   "outputs": [
    {
     "data": {
      "text/plain": [
       "(4.0, {0100100110, 0010111000, 1001001100, 1010000011, 0101010001})ₜ"
      ]
     },
     "metadata": {},
     "output_type": "display_data"
    }
   ],
   "source": [
    "res9 = solve(net_petersen, ConfigsMax())[]"
   ]
  },
  {
   "cell_type": "code",
   "execution_count": 18,
   "metadata": {},
   "outputs": [
    {
     "data": {
      "text/plain": [
       "{0000100110, 1000000110, 0000101100, 1000001100, 0010100010, 1010000010, 0010101000, 1010001000, 0100000110, 0100100100, 0100100010, 0010011000, 0010110000, 0000111000, 0100110000, 0001001100, 1001000100, 1001001000, 0101000100, 0001011000, 0101010000, 0010000011, 1010000001, 1000000011, 0100000011, 0010010001, 0100010001, 1001000001, 0101000001, 0001010001}*x³ + {0100100110, 0010111000, 1001001100, 1010000011, 0101010001}*x⁴"
      ]
     },
     "metadata": {},
     "output_type": "display_data"
    }
   ],
   "source": [
    "res10 = solve(net_petersen, ConfigsMax(2))[]"
   ]
  },
  {
   "cell_type": "code",
   "execution_count": 19,
   "metadata": {},
   "outputs": [
    {
     "data": {
      "text/plain": [
       "{0000100110, 1000000110, 0000000110, 0000101100, 1000001100, 0000001100, 0000100100, 1000000100, 0000000100, 0010100010, 1010000010, 0010000010, 0010101000, 1010001000, 0010001000, 0010100000, 1010000000, 0010000000, 0000100010, 1000000010, 0000000010, 0000101000, 1000001000, 0000001000, 0000100000, 1000000000, 0000000000, 0100100110, 0100000110, 0100100100, 0100000100, 0100100010, 0100000010, 0100100000, 0100000000, 0010111000, 0010011000, 0010110000, 0010010000, 0000111000, 0000011000, 0000110000, 0000010000, 0100110000, 0100010000, 1001001100, 0001001100, 1001000100, 0001000100, 1001001000, 0001001000, 1001000000, 0001000000, 0101000100, 0101000000, 0001011000, 0001010000, 0101010000, 1010000011, 0010000011, 1010000001, 0010000001, 1000000011, 0000000011, 1000000001, 0000000001, 0100000011, 0100000001, 0010010001, 0000010001, 0100010001, 1001000001, 0001000001, 0101000001, 0001010001, 0101010001}"
      ]
     },
     "metadata": {},
     "output_type": "display_data"
    }
   ],
   "source": [
    "res11 = solve(net_petersen, ConfigsAll())[]"
   ]
  },
  {
   "cell_type": "code",
   "execution_count": 20,
   "metadata": {},
   "outputs": [
    {
     "data": {
      "text/plain": [
       "+ (count = 76.0)\n",
       "├─ + (count = 75.0)\n",
       "│  ├─ + (count = 74.0)\n",
       "│  │  ├─ + (count = 73.0)\n",
       "│  │  │  ├─ + (count = 71.0)\n",
       "│  │  │  │  ├─ + (count = 70.0)\n",
       "│  │  │  │  │  ⋮\n",
       "│  │  │  │  │  \n",
       "│  │  │  │  └─ * (count = 1.0)\n",
       "│  │  │  │     ⋮\n",
       "│  │  │  │     \n",
       "│  │  │  └─ * (count = 2.0)\n",
       "│  │  │     ├─ * (count = 2.0)\n",
       "│  │  │     │  ⋮\n",
       "│  │  │     │  \n",
       "│  │  │     └─ * (count = 1.0)\n",
       "│  │  │        ⋮\n",
       "│  │  │        \n",
       "│  │  └─ * (count = 1.0)\n",
       "│  │     ├─ * (count = 1.0)\n",
       "│  │     │  ├─ * (count = 1.0)\n",
       "│  │     │  │  ⋮\n",
       "│  │     │  │  \n",
       "│  │     │  └─ * (count = 1.0)\n",
       "│  │     │     ⋮\n",
       "│  │     │     \n",
       "│  │     └─ * (count = 1.0)\n",
       "│  │        ├─ * (count = 1.0)\n",
       "│  │        │  ⋮\n",
       "│  │        │  \n",
       "│  │        └─ OnehotVec{10, 2}(10, 1)\n",
       "│  └─ * (count = 1.0)\n",
       "│     ├─ * (count = 1.0)\n",
       "│     │  ├─ * (count = 1.0)\n",
       "│     │  │  ├─ * (count = 1.0)\n",
       "│     │  │  │  ⋮\n",
       "│     │  │  │  \n",
       "│     │  │  └─ * (count = 1.0)\n",
       "│     │  │     ⋮\n",
       "│     │  │     \n",
       "│     │  └─ * (count = 1.0)\n",
       "│     │     ├─ OnehotVec{10, 2}(10, 1)\n",
       "│     │     └─ * (count = 1.0)\n",
       "│     │        ⋮\n",
       "│     │        \n",
       "│     └─ * (count = 1.0)\n",
       "│        ├─ * (count = 1.0)\n",
       "│        │  ├─ OnehotVec{10, 2}(4, 1)\n",
       "│        │  └─ OnehotVec{10, 2}(4, 1)\n",
       "│        └─ * (count = 1.0)\n",
       "│           ├─ OnehotVec{10, 2}(6, 1)\n",
       "│           └─ OnehotVec{10, 2}(10, 1)\n",
       "└─ * (count = 1.0)\n",
       "   ├─ * (count = 1.0)\n",
       "   │  ├─ * (count = 1.0)\n",
       "   │  │  ├─ * (count = 1.0)\n",
       "   │  │  │  ├─ * (count = 1.0)\n",
       "   │  │  │  │  ⋮\n",
       "   │  │  │  │  \n",
       "   │  │  │  └─ * (count = 1.0)\n",
       "   │  │  │     ⋮\n",
       "   │  │  │     \n",
       "   │  │  └─ * (count = 1.0)\n",
       "   │  │     ├─ OnehotVec{10, 2}(4, 1)\n",
       "   │  │     └─ * (count = 1.0)\n",
       "   │  │        ⋮\n",
       "   │  │        \n",
       "   │  └─ * (count = 1.0)\n",
       "   │     ├─ * (count = 1.0)\n",
       "   │     │  ├─ OnehotVec{10, 2}(2, 1)\n",
       "   │     │  └─ OnehotVec{10, 2}(10, 1)\n",
       "   │     └─ * (count = 1.0)\n",
       "   │        ├─ OnehotVec{10, 2}(4, 1)\n",
       "   │        └─ OnehotVec{10, 2}(6, 1)\n",
       "   └─ * (count = 1.0)\n",
       "      ├─ * (count = 1.0)\n",
       "      │  ├─ OnehotVec{10, 2}(2, 1)\n",
       "      │  └─ * (count = 1.0)\n",
       "      │     ├─ OnehotVec{10, 2}(4, 1)\n",
       "      │     └─ OnehotVec{10, 2}(4, 1)\n",
       "      └─ * (count = 1.0)\n",
       "         ├─ OnehotVec{10, 2}(6, 1)\n",
       "         └─ OnehotVec{10, 2}(10, 1)\n"
      ]
     },
     "metadata": {},
     "output_type": "display_data"
    }
   ],
   "source": [
    "res12 = solve(net_petersen, ConfigsAll(tree_storage=true))[]"
   ]
  }
 ],
 "metadata": {
  "kernelspec": {
   "display_name": "Julia 1.11.4",
   "language": "julia",
   "name": "julia-1.11"
  },
  "language_info": {
   "file_extension": ".jl",
   "mimetype": "application/julia",
   "name": "julia",
   "version": "1.11.4"
  }
 },
 "nbformat": 4,
 "nbformat_minor": 2
}
